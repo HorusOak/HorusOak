{
 "cells": [
  {
   "cell_type": "code",
   "execution_count": 1,
   "id": "72a1ec06",
   "metadata": {
    "_cell_guid": "b1076dfc-b9ad-4769-8c92-a6c4dae69d19",
    "_uuid": "8f2839f25d086af736a60e9eeb907d3b93b6e0e5",
    "execution": {
     "iopub.execute_input": "2024-04-27T14:49:30.185762Z",
     "iopub.status.busy": "2024-04-27T14:49:30.185000Z",
     "iopub.status.idle": "2024-04-27T14:49:31.191512Z",
     "shell.execute_reply": "2024-04-27T14:49:31.190209Z"
    },
    "papermill": {
     "duration": 1.021543,
     "end_time": "2024-04-27T14:49:31.194390",
     "exception": false,
     "start_time": "2024-04-27T14:49:30.172847",
     "status": "completed"
    },
    "tags": []
   },
   "outputs": [
    {
     "name": "stdout",
     "output_type": "stream",
     "text": [
      "/kaggle/input/formula-1-world-championship-1950-2020/races.csv\n",
      "/kaggle/input/formula-1-world-championship-1950-2020/constructor_results.csv\n",
      "/kaggle/input/formula-1-world-championship-1950-2020/drivers.csv\n",
      "/kaggle/input/formula-1-world-championship-1950-2020/constructors.csv\n",
      "/kaggle/input/formula-1-world-championship-1950-2020/lap_times.csv\n",
      "/kaggle/input/formula-1-world-championship-1950-2020/status.csv\n",
      "/kaggle/input/formula-1-world-championship-1950-2020/driver_standings.csv\n",
      "/kaggle/input/formula-1-world-championship-1950-2020/seasons.csv\n",
      "/kaggle/input/formula-1-world-championship-1950-2020/pit_stops.csv\n",
      "/kaggle/input/formula-1-world-championship-1950-2020/sprint_results.csv\n",
      "/kaggle/input/formula-1-world-championship-1950-2020/constructor_standings.csv\n",
      "/kaggle/input/formula-1-world-championship-1950-2020/results.csv\n",
      "/kaggle/input/formula-1-world-championship-1950-2020/circuits.csv\n",
      "/kaggle/input/formula-1-world-championship-1950-2020/qualifying.csv\n"
     ]
    }
   ],
   "source": [
    "# This Python 3 environment comes with many helpful analytics libraries installed\n",
    "# It is defined by the kaggle/python Docker image: https://github.com/kaggle/docker-python\n",
    "# For example, here's several helpful packages to load\n",
    "\n",
    "import numpy as np # linear algebra\n",
    "import pandas as pd # data processing, CSV file I/O (e.g. pd.read_csv)\n",
    "\n",
    "# Input data files are available in the read-only \"../input/\" directory\n",
    "# For example, running this (by clicking run or pressing Shift+Enter) will list all files under the input directory\n",
    "\n",
    "import os\n",
    "for dirname, _, filenames in os.walk('/kaggle/input'):\n",
    "    for filename in filenames:\n",
    "        print(os.path.join(dirname, filename))\n",
    "\n",
    "# You can write up to 20GB to the current directory (/kaggle/working/) that gets preserved as output when you create a version using \"Save & Run All\" \n",
    "# You can also write temporary files to /kaggle/temp/, but they won't be saved outside of the current session"
   ]
  },
  {
   "cell_type": "markdown",
   "id": "5309209b",
   "metadata": {
    "papermill": {
     "duration": 0.009312,
     "end_time": "2024-04-27T14:49:31.214803",
     "exception": false,
     "start_time": "2024-04-27T14:49:31.205491",
     "status": "completed"
    },
    "tags": []
   },
   "source": [
    "## 1. Limpieza de datos"
   ]
  },
  {
   "cell_type": "markdown",
   "id": "2c37ea68",
   "metadata": {
    "papermill": {
     "duration": 0.009176,
     "end_time": "2024-04-27T14:49:31.233751",
     "exception": false,
     "start_time": "2024-04-27T14:49:31.224575",
     "status": "completed"
    },
    "tags": []
   },
   "source": [
    "### 1.1 Circuitos"
   ]
  },
  {
   "cell_type": "code",
   "execution_count": 2,
   "id": "533a0a0d",
   "metadata": {
    "execution": {
     "iopub.execute_input": "2024-04-27T14:49:31.254952Z",
     "iopub.status.busy": "2024-04-27T14:49:31.254391Z",
     "iopub.status.idle": "2024-04-27T14:49:31.304539Z",
     "shell.execute_reply": "2024-04-27T14:49:31.303305Z"
    },
    "papermill": {
     "duration": 0.064055,
     "end_time": "2024-04-27T14:49:31.307513",
     "exception": false,
     "start_time": "2024-04-27T14:49:31.243458",
     "status": "completed"
    },
    "tags": []
   },
   "outputs": [
    {
     "name": "stdout",
     "output_type": "stream",
     "text": [
      "<class 'pandas.core.frame.DataFrame'>\n",
      "RangeIndex: 77 entries, 0 to 76\n",
      "Data columns (total 9 columns):\n",
      " #   Column      Non-Null Count  Dtype  \n",
      "---  ------      --------------  -----  \n",
      " 0   circuitId   77 non-null     int64  \n",
      " 1   circuitRef  77 non-null     object \n",
      " 2   name        77 non-null     object \n",
      " 3   location    77 non-null     object \n",
      " 4   country     77 non-null     object \n",
      " 5   lat         77 non-null     float64\n",
      " 6   lng         77 non-null     float64\n",
      " 7   alt         77 non-null     object \n",
      " 8   url         77 non-null     object \n",
      "dtypes: float64(2), int64(1), object(6)\n",
      "memory usage: 5.5+ KB\n"
     ]
    }
   ],
   "source": [
    "df_circuits = pd.read_csv('/kaggle/input/formula-1-world-championship-1950-2020/circuits.csv')\n",
    "df_circuits.info()"
   ]
  },
  {
   "cell_type": "code",
   "execution_count": null,
   "id": "39fe3d59",
   "metadata": {
    "papermill": {
     "duration": 0.009506,
     "end_time": "2024-04-27T14:49:31.326842",
     "exception": false,
     "start_time": "2024-04-27T14:49:31.317336",
     "status": "completed"
    },
    "tags": []
   },
   "outputs": [],
   "source": []
  },
  {
   "cell_type": "markdown",
   "id": "cd2aeecc",
   "metadata": {
    "papermill": {
     "duration": 0.009186,
     "end_time": "2024-04-27T14:49:31.345771",
     "exception": false,
     "start_time": "2024-04-27T14:49:31.336585",
     "status": "completed"
    },
    "tags": []
   },
   "source": [
    "### 1.2 Resultados de constructor"
   ]
  },
  {
   "cell_type": "code",
   "execution_count": 3,
   "id": "25e818fe",
   "metadata": {
    "execution": {
     "iopub.execute_input": "2024-04-27T14:49:31.369316Z",
     "iopub.status.busy": "2024-04-27T14:49:31.368607Z",
     "iopub.status.idle": "2024-04-27T14:49:31.402997Z",
     "shell.execute_reply": "2024-04-27T14:49:31.401391Z"
    },
    "papermill": {
     "duration": 0.049296,
     "end_time": "2024-04-27T14:49:31.405766",
     "exception": false,
     "start_time": "2024-04-27T14:49:31.356470",
     "status": "completed"
    },
    "tags": []
   },
   "outputs": [
    {
     "name": "stdout",
     "output_type": "stream",
     "text": [
      "<class 'pandas.core.frame.DataFrame'>\n",
      "RangeIndex: 12290 entries, 0 to 12289\n",
      "Data columns (total 5 columns):\n",
      " #   Column                Non-Null Count  Dtype  \n",
      "---  ------                --------------  -----  \n",
      " 0   constructorResultsId  12290 non-null  int64  \n",
      " 1   raceId                12290 non-null  int64  \n",
      " 2   constructorId         12290 non-null  int64  \n",
      " 3   points                12290 non-null  float64\n",
      " 4   status                12290 non-null  object \n",
      "dtypes: float64(1), int64(3), object(1)\n",
      "memory usage: 480.2+ KB\n"
     ]
    }
   ],
   "source": [
    "df_const_res = pd.read_csv('/kaggle/input/formula-1-world-championship-1950-2020/constructor_results.csv')\n",
    "df_const_res.info()"
   ]
  },
  {
   "cell_type": "markdown",
   "id": "df483dc4",
   "metadata": {
    "papermill": {
     "duration": 0.009878,
     "end_time": "2024-04-27T14:49:31.425380",
     "exception": false,
     "start_time": "2024-04-27T14:49:31.415502",
     "status": "completed"
    },
    "tags": []
   },
   "source": [
    "### 1.3 Posiciones de los constructores"
   ]
  },
  {
   "cell_type": "code",
   "execution_count": 4,
   "id": "e9fe2f79",
   "metadata": {
    "execution": {
     "iopub.execute_input": "2024-04-27T14:49:31.449306Z",
     "iopub.status.busy": "2024-04-27T14:49:31.448484Z",
     "iopub.status.idle": "2024-04-27T14:49:31.484862Z",
     "shell.execute_reply": "2024-04-27T14:49:31.483738Z"
    },
    "papermill": {
     "duration": 0.052734,
     "end_time": "2024-04-27T14:49:31.487929",
     "exception": false,
     "start_time": "2024-04-27T14:49:31.435195",
     "status": "completed"
    },
    "tags": []
   },
   "outputs": [
    {
     "name": "stdout",
     "output_type": "stream",
     "text": [
      "<class 'pandas.core.frame.DataFrame'>\n",
      "RangeIndex: 13051 entries, 0 to 13050\n",
      "Data columns (total 7 columns):\n",
      " #   Column                  Non-Null Count  Dtype  \n",
      "---  ------                  --------------  -----  \n",
      " 0   constructorStandingsId  13051 non-null  int64  \n",
      " 1   raceId                  13051 non-null  int64  \n",
      " 2   constructorId           13051 non-null  int64  \n",
      " 3   points                  13051 non-null  float64\n",
      " 4   position                13051 non-null  int64  \n",
      " 5   positionText            13051 non-null  object \n",
      " 6   wins                    13051 non-null  int64  \n",
      "dtypes: float64(1), int64(5), object(1)\n",
      "memory usage: 713.9+ KB\n"
     ]
    }
   ],
   "source": [
    "df_const_stand = pd.read_csv('/kaggle/input/formula-1-world-championship-1950-2020/constructor_standings.csv')\n",
    "df_const_stand.info()"
   ]
  },
  {
   "cell_type": "markdown",
   "id": "f865bb50",
   "metadata": {
    "papermill": {
     "duration": 0.010137,
     "end_time": "2024-04-27T14:49:31.508271",
     "exception": false,
     "start_time": "2024-04-27T14:49:31.498134",
     "status": "completed"
    },
    "tags": []
   },
   "source": [
    "### 1.4 Constructores"
   ]
  },
  {
   "cell_type": "code",
   "execution_count": 5,
   "id": "51571742",
   "metadata": {
    "execution": {
     "iopub.execute_input": "2024-04-27T14:49:31.530925Z",
     "iopub.status.busy": "2024-04-27T14:49:31.530069Z",
     "iopub.status.idle": "2024-04-27T14:49:31.553249Z",
     "shell.execute_reply": "2024-04-27T14:49:31.552043Z"
    },
    "papermill": {
     "duration": 0.038144,
     "end_time": "2024-04-27T14:49:31.556392",
     "exception": false,
     "start_time": "2024-04-27T14:49:31.518248",
     "status": "completed"
    },
    "tags": []
   },
   "outputs": [
    {
     "name": "stdout",
     "output_type": "stream",
     "text": [
      "<class 'pandas.core.frame.DataFrame'>\n",
      "RangeIndex: 211 entries, 0 to 210\n",
      "Data columns (total 5 columns):\n",
      " #   Column          Non-Null Count  Dtype \n",
      "---  ------          --------------  ----- \n",
      " 0   constructorId   211 non-null    int64 \n",
      " 1   constructorRef  211 non-null    object\n",
      " 2   name            211 non-null    object\n",
      " 3   nationality     211 non-null    object\n",
      " 4   url             211 non-null    object\n",
      "dtypes: int64(1), object(4)\n",
      "memory usage: 8.4+ KB\n"
     ]
    }
   ],
   "source": [
    "df_const = pd.read_csv('/kaggle/input/formula-1-world-championship-1950-2020/constructors.csv')\n",
    "df_const.info()"
   ]
  },
  {
   "cell_type": "markdown",
   "id": "3c903dfa",
   "metadata": {
    "papermill": {
     "duration": 0.010066,
     "end_time": "2024-04-27T14:49:31.576924",
     "exception": false,
     "start_time": "2024-04-27T14:49:31.566858",
     "status": "completed"
    },
    "tags": []
   },
   "source": [
    "### 1.5 Posiciones de los pilotos"
   ]
  },
  {
   "cell_type": "code",
   "execution_count": 6,
   "id": "3d345087",
   "metadata": {
    "execution": {
     "iopub.execute_input": "2024-04-27T14:49:31.600032Z",
     "iopub.status.busy": "2024-04-27T14:49:31.599091Z",
     "iopub.status.idle": "2024-04-27T14:49:31.669020Z",
     "shell.execute_reply": "2024-04-27T14:49:31.667645Z"
    },
    "papermill": {
     "duration": 0.084652,
     "end_time": "2024-04-27T14:49:31.671722",
     "exception": false,
     "start_time": "2024-04-27T14:49:31.587070",
     "status": "completed"
    },
    "tags": []
   },
   "outputs": [
    {
     "name": "stdout",
     "output_type": "stream",
     "text": [
      "<class 'pandas.core.frame.DataFrame'>\n",
      "RangeIndex: 34124 entries, 0 to 34123\n",
      "Data columns (total 7 columns):\n",
      " #   Column             Non-Null Count  Dtype  \n",
      "---  ------             --------------  -----  \n",
      " 0   driverStandingsId  34124 non-null  int64  \n",
      " 1   raceId             34124 non-null  int64  \n",
      " 2   driverId           34124 non-null  int64  \n",
      " 3   points             34124 non-null  float64\n",
      " 4   position           34124 non-null  int64  \n",
      " 5   positionText       34124 non-null  object \n",
      " 6   wins               34124 non-null  int64  \n",
      "dtypes: float64(1), int64(5), object(1)\n",
      "memory usage: 1.8+ MB\n"
     ]
    }
   ],
   "source": [
    "df_driver_stand = pd.read_csv('/kaggle/input/formula-1-world-championship-1950-2020/driver_standings.csv')\n",
    "df_driver_stand.info()"
   ]
  },
  {
   "cell_type": "markdown",
   "id": "7ea85101",
   "metadata": {
    "papermill": {
     "duration": 0.009865,
     "end_time": "2024-04-27T14:49:31.692089",
     "exception": false,
     "start_time": "2024-04-27T14:49:31.682224",
     "status": "completed"
    },
    "tags": []
   },
   "source": [
    "### 1.6 Pilotos"
   ]
  },
  {
   "cell_type": "code",
   "execution_count": 7,
   "id": "07145b25",
   "metadata": {
    "execution": {
     "iopub.execute_input": "2024-04-27T14:49:31.714552Z",
     "iopub.status.busy": "2024-04-27T14:49:31.714099Z",
     "iopub.status.idle": "2024-04-27T14:49:31.738891Z",
     "shell.execute_reply": "2024-04-27T14:49:31.737745Z"
    },
    "papermill": {
     "duration": 0.039576,
     "end_time": "2024-04-27T14:49:31.742018",
     "exception": false,
     "start_time": "2024-04-27T14:49:31.702442",
     "status": "completed"
    },
    "tags": []
   },
   "outputs": [
    {
     "name": "stdout",
     "output_type": "stream",
     "text": [
      "<class 'pandas.core.frame.DataFrame'>\n",
      "RangeIndex: 857 entries, 0 to 856\n",
      "Data columns (total 9 columns):\n",
      " #   Column       Non-Null Count  Dtype \n",
      "---  ------       --------------  ----- \n",
      " 0   driverId     857 non-null    int64 \n",
      " 1   driverRef    857 non-null    object\n",
      " 2   number       857 non-null    object\n",
      " 3   code         857 non-null    object\n",
      " 4   forename     857 non-null    object\n",
      " 5   surname      857 non-null    object\n",
      " 6   dob          857 non-null    object\n",
      " 7   nationality  857 non-null    object\n",
      " 8   url          857 non-null    object\n",
      "dtypes: int64(1), object(8)\n",
      "memory usage: 60.4+ KB\n"
     ]
    }
   ],
   "source": [
    "df_drivers = pd.read_csv('/kaggle/input/formula-1-world-championship-1950-2020/drivers.csv')\n",
    "df_drivers.info()"
   ]
  },
  {
   "cell_type": "markdown",
   "id": "76c5d469",
   "metadata": {
    "papermill": {
     "duration": 0.010422,
     "end_time": "2024-04-27T14:49:31.763462",
     "exception": false,
     "start_time": "2024-04-27T14:49:31.753040",
     "status": "completed"
    },
    "tags": []
   },
   "source": [
    "### 1.7 Tiempos de vuelta"
   ]
  },
  {
   "cell_type": "code",
   "execution_count": 8,
   "id": "a6eb6756",
   "metadata": {
    "execution": {
     "iopub.execute_input": "2024-04-27T14:49:31.787189Z",
     "iopub.status.busy": "2024-04-27T14:49:31.786444Z",
     "iopub.status.idle": "2024-04-27T14:49:32.652342Z",
     "shell.execute_reply": "2024-04-27T14:49:32.650866Z"
    },
    "papermill": {
     "duration": 0.881646,
     "end_time": "2024-04-27T14:49:32.655501",
     "exception": false,
     "start_time": "2024-04-27T14:49:31.773855",
     "status": "completed"
    },
    "tags": []
   },
   "outputs": [
    {
     "name": "stdout",
     "output_type": "stream",
     "text": [
      "<class 'pandas.core.frame.DataFrame'>\n",
      "RangeIndex: 551742 entries, 0 to 551741\n",
      "Data columns (total 6 columns):\n",
      " #   Column        Non-Null Count   Dtype \n",
      "---  ------        --------------   ----- \n",
      " 0   raceId        551742 non-null  int64 \n",
      " 1   driverId      551742 non-null  int64 \n",
      " 2   lap           551742 non-null  int64 \n",
      " 3   position      551742 non-null  int64 \n",
      " 4   time          551742 non-null  object\n",
      " 5   milliseconds  551742 non-null  int64 \n",
      "dtypes: int64(5), object(1)\n",
      "memory usage: 25.3+ MB\n"
     ]
    }
   ],
   "source": [
    "df_lap = pd.read_csv('/kaggle/input/formula-1-world-championship-1950-2020/lap_times.csv')\n",
    "df_lap.info()"
   ]
  },
  {
   "cell_type": "markdown",
   "id": "1677efe0",
   "metadata": {
    "papermill": {
     "duration": 0.011888,
     "end_time": "2024-04-27T14:49:32.678612",
     "exception": false,
     "start_time": "2024-04-27T14:49:32.666724",
     "status": "completed"
    },
    "tags": []
   },
   "source": [
    "### 1.8 Paradas"
   ]
  },
  {
   "cell_type": "code",
   "execution_count": 9,
   "id": "f6d29243",
   "metadata": {
    "execution": {
     "iopub.execute_input": "2024-04-27T14:49:32.702456Z",
     "iopub.status.busy": "2024-04-27T14:49:32.702031Z",
     "iopub.status.idle": "2024-04-27T14:49:32.739096Z",
     "shell.execute_reply": "2024-04-27T14:49:32.737990Z"
    },
    "papermill": {
     "duration": 0.05193,
     "end_time": "2024-04-27T14:49:32.741666",
     "exception": false,
     "start_time": "2024-04-27T14:49:32.689736",
     "status": "completed"
    },
    "tags": []
   },
   "outputs": [
    {
     "name": "stdout",
     "output_type": "stream",
     "text": [
      "<class 'pandas.core.frame.DataFrame'>\n",
      "RangeIndex: 10089 entries, 0 to 10088\n",
      "Data columns (total 7 columns):\n",
      " #   Column        Non-Null Count  Dtype \n",
      "---  ------        --------------  ----- \n",
      " 0   raceId        10089 non-null  int64 \n",
      " 1   driverId      10089 non-null  int64 \n",
      " 2   stop          10089 non-null  int64 \n",
      " 3   lap           10089 non-null  int64 \n",
      " 4   time          10089 non-null  object\n",
      " 5   duration      10089 non-null  object\n",
      " 6   milliseconds  10089 non-null  int64 \n",
      "dtypes: int64(5), object(2)\n",
      "memory usage: 551.9+ KB\n"
     ]
    }
   ],
   "source": [
    "df_pits = pd.read_csv('/kaggle/input/formula-1-world-championship-1950-2020/pit_stops.csv')\n",
    "df_pits.info()"
   ]
  },
  {
   "cell_type": "markdown",
   "id": "2941056e",
   "metadata": {
    "papermill": {
     "duration": 0.009962,
     "end_time": "2024-04-27T14:49:32.761992",
     "exception": false,
     "start_time": "2024-04-27T14:49:32.752030",
     "status": "completed"
    },
    "tags": []
   },
   "source": [
    "### 1.9 Clasificación"
   ]
  },
  {
   "cell_type": "code",
   "execution_count": 10,
   "id": "dd3d73f3",
   "metadata": {
    "execution": {
     "iopub.execute_input": "2024-04-27T14:49:32.785277Z",
     "iopub.status.busy": "2024-04-27T14:49:32.784106Z",
     "iopub.status.idle": "2024-04-27T14:49:32.830420Z",
     "shell.execute_reply": "2024-04-27T14:49:32.829190Z"
    },
    "papermill": {
     "duration": 0.060645,
     "end_time": "2024-04-27T14:49:32.833012",
     "exception": false,
     "start_time": "2024-04-27T14:49:32.772367",
     "status": "completed"
    },
    "tags": []
   },
   "outputs": [
    {
     "name": "stdout",
     "output_type": "stream",
     "text": [
      "<class 'pandas.core.frame.DataFrame'>\n",
      "RangeIndex: 9815 entries, 0 to 9814\n",
      "Data columns (total 9 columns):\n",
      " #   Column         Non-Null Count  Dtype \n",
      "---  ------         --------------  ----- \n",
      " 0   qualifyId      9815 non-null   int64 \n",
      " 1   raceId         9815 non-null   int64 \n",
      " 2   driverId       9815 non-null   int64 \n",
      " 3   constructorId  9815 non-null   int64 \n",
      " 4   number         9815 non-null   int64 \n",
      " 5   position       9815 non-null   int64 \n",
      " 6   q1             9807 non-null   object\n",
      " 7   q2             9651 non-null   object\n",
      " 8   q3             9488 non-null   object\n",
      "dtypes: int64(6), object(3)\n",
      "memory usage: 690.2+ KB\n"
     ]
    }
   ],
   "source": [
    "df_qualy = pd.read_csv('/kaggle/input/formula-1-world-championship-1950-2020/qualifying.csv')\n",
    "df_qualy.info()"
   ]
  },
  {
   "cell_type": "markdown",
   "id": "aa83e80b",
   "metadata": {
    "papermill": {
     "duration": 0.010445,
     "end_time": "2024-04-27T14:49:32.854336",
     "exception": false,
     "start_time": "2024-04-27T14:49:32.843891",
     "status": "completed"
    },
    "tags": []
   },
   "source": [
    "### 1.10 Carreras"
   ]
  },
  {
   "cell_type": "code",
   "execution_count": 11,
   "id": "dd67a96b",
   "metadata": {
    "execution": {
     "iopub.execute_input": "2024-04-27T14:49:32.877943Z",
     "iopub.status.busy": "2024-04-27T14:49:32.876607Z",
     "iopub.status.idle": "2024-04-27T14:49:32.902830Z",
     "shell.execute_reply": "2024-04-27T14:49:32.901645Z"
    },
    "papermill": {
     "duration": 0.040613,
     "end_time": "2024-04-27T14:49:32.905438",
     "exception": false,
     "start_time": "2024-04-27T14:49:32.864825",
     "status": "completed"
    },
    "tags": []
   },
   "outputs": [
    {
     "name": "stdout",
     "output_type": "stream",
     "text": [
      "<class 'pandas.core.frame.DataFrame'>\n",
      "RangeIndex: 1101 entries, 0 to 1100\n",
      "Data columns (total 18 columns):\n",
      " #   Column       Non-Null Count  Dtype \n",
      "---  ------       --------------  ----- \n",
      " 0   raceId       1101 non-null   int64 \n",
      " 1   year         1101 non-null   int64 \n",
      " 2   round        1101 non-null   int64 \n",
      " 3   circuitId    1101 non-null   int64 \n",
      " 4   name         1101 non-null   object\n",
      " 5   date         1101 non-null   object\n",
      " 6   time         1101 non-null   object\n",
      " 7   url          1101 non-null   object\n",
      " 8   fp1_date     1101 non-null   object\n",
      " 9   fp1_time     1101 non-null   object\n",
      " 10  fp2_date     1101 non-null   object\n",
      " 11  fp2_time     1101 non-null   object\n",
      " 12  fp3_date     1101 non-null   object\n",
      " 13  fp3_time     1101 non-null   object\n",
      " 14  quali_date   1101 non-null   object\n",
      " 15  quali_time   1101 non-null   object\n",
      " 16  sprint_date  1101 non-null   object\n",
      " 17  sprint_time  1101 non-null   object\n",
      "dtypes: int64(4), object(14)\n",
      "memory usage: 155.0+ KB\n"
     ]
    }
   ],
   "source": [
    "df_races = pd.read_csv('/kaggle/input/formula-1-world-championship-1950-2020/races.csv')\n",
    "df_races.info()"
   ]
  },
  {
   "cell_type": "markdown",
   "id": "4af74436",
   "metadata": {
    "papermill": {
     "duration": 0.010219,
     "end_time": "2024-04-27T14:49:32.926430",
     "exception": false,
     "start_time": "2024-04-27T14:49:32.916211",
     "status": "completed"
    },
    "tags": []
   },
   "source": [
    "### 1.11 Resultados"
   ]
  },
  {
   "cell_type": "code",
   "execution_count": 12,
   "id": "d15b80ad",
   "metadata": {
    "execution": {
     "iopub.execute_input": "2024-04-27T14:49:32.950705Z",
     "iopub.status.busy": "2024-04-27T14:49:32.949187Z",
     "iopub.status.idle": "2024-04-27T14:49:33.099913Z",
     "shell.execute_reply": "2024-04-27T14:49:33.098758Z"
    },
    "papermill": {
     "duration": 0.165538,
     "end_time": "2024-04-27T14:49:33.102666",
     "exception": false,
     "start_time": "2024-04-27T14:49:32.937128",
     "status": "completed"
    },
    "tags": []
   },
   "outputs": [
    {
     "name": "stdout",
     "output_type": "stream",
     "text": [
      "<class 'pandas.core.frame.DataFrame'>\n",
      "RangeIndex: 26080 entries, 0 to 26079\n",
      "Data columns (total 18 columns):\n",
      " #   Column           Non-Null Count  Dtype  \n",
      "---  ------           --------------  -----  \n",
      " 0   resultId         26080 non-null  int64  \n",
      " 1   raceId           26080 non-null  int64  \n",
      " 2   driverId         26080 non-null  int64  \n",
      " 3   constructorId    26080 non-null  int64  \n",
      " 4   number           26080 non-null  object \n",
      " 5   grid             26080 non-null  int64  \n",
      " 6   position         26080 non-null  object \n",
      " 7   positionText     26080 non-null  object \n",
      " 8   positionOrder    26080 non-null  int64  \n",
      " 9   points           26080 non-null  float64\n",
      " 10  laps             26080 non-null  int64  \n",
      " 11  time             26080 non-null  object \n",
      " 12  milliseconds     26080 non-null  object \n",
      " 13  fastestLap       26080 non-null  object \n",
      " 14  rank             26080 non-null  object \n",
      " 15  fastestLapTime   26080 non-null  object \n",
      " 16  fastestLapSpeed  26080 non-null  object \n",
      " 17  statusId         26080 non-null  int64  \n",
      "dtypes: float64(1), int64(8), object(9)\n",
      "memory usage: 3.6+ MB\n"
     ]
    }
   ],
   "source": [
    "df_results = pd.read_csv('/kaggle/input/formula-1-world-championship-1950-2020/results.csv')\n",
    "df_results.info()"
   ]
  },
  {
   "cell_type": "markdown",
   "id": "7760721f",
   "metadata": {
    "papermill": {
     "duration": 0.010252,
     "end_time": "2024-04-27T14:49:33.123395",
     "exception": false,
     "start_time": "2024-04-27T14:49:33.113143",
     "status": "completed"
    },
    "tags": []
   },
   "source": [
    "### 1.12 Temporadas"
   ]
  },
  {
   "cell_type": "code",
   "execution_count": 13,
   "id": "ae9ec0f0",
   "metadata": {
    "execution": {
     "iopub.execute_input": "2024-04-27T14:49:33.147479Z",
     "iopub.status.busy": "2024-04-27T14:49:33.146086Z",
     "iopub.status.idle": "2024-04-27T14:49:33.163470Z",
     "shell.execute_reply": "2024-04-27T14:49:33.162232Z"
    },
    "papermill": {
     "duration": 0.032142,
     "end_time": "2024-04-27T14:49:33.166290",
     "exception": false,
     "start_time": "2024-04-27T14:49:33.134148",
     "status": "completed"
    },
    "tags": []
   },
   "outputs": [
    {
     "name": "stdout",
     "output_type": "stream",
     "text": [
      "<class 'pandas.core.frame.DataFrame'>\n",
      "RangeIndex: 74 entries, 0 to 73\n",
      "Data columns (total 2 columns):\n",
      " #   Column  Non-Null Count  Dtype \n",
      "---  ------  --------------  ----- \n",
      " 0   year    74 non-null     int64 \n",
      " 1   url     74 non-null     object\n",
      "dtypes: int64(1), object(1)\n",
      "memory usage: 1.3+ KB\n"
     ]
    }
   ],
   "source": [
    "df_seasons = pd.read_csv('/kaggle/input/formula-1-world-championship-1950-2020/seasons.csv')\n",
    "df_seasons.info()"
   ]
  },
  {
   "cell_type": "markdown",
   "id": "21b5206d",
   "metadata": {
    "papermill": {
     "duration": 0.010636,
     "end_time": "2024-04-27T14:49:33.188293",
     "exception": false,
     "start_time": "2024-04-27T14:49:33.177657",
     "status": "completed"
    },
    "tags": []
   },
   "source": [
    "### 1.13 Resultados de la carrera Sprint"
   ]
  },
  {
   "cell_type": "code",
   "execution_count": 14,
   "id": "86a7640f",
   "metadata": {
    "execution": {
     "iopub.execute_input": "2024-04-27T14:49:33.212954Z",
     "iopub.status.busy": "2024-04-27T14:49:33.212426Z",
     "iopub.status.idle": "2024-04-27T14:49:33.232893Z",
     "shell.execute_reply": "2024-04-27T14:49:33.231112Z"
    },
    "papermill": {
     "duration": 0.036514,
     "end_time": "2024-04-27T14:49:33.235624",
     "exception": false,
     "start_time": "2024-04-27T14:49:33.199110",
     "status": "completed"
    },
    "tags": []
   },
   "outputs": [
    {
     "name": "stdout",
     "output_type": "stream",
     "text": [
      "<class 'pandas.core.frame.DataFrame'>\n",
      "RangeIndex: 180 entries, 0 to 179\n",
      "Data columns (total 16 columns):\n",
      " #   Column          Non-Null Count  Dtype \n",
      "---  ------          --------------  ----- \n",
      " 0   resultId        180 non-null    int64 \n",
      " 1   raceId          180 non-null    int64 \n",
      " 2   driverId        180 non-null    int64 \n",
      " 3   constructorId   180 non-null    int64 \n",
      " 4   number          180 non-null    int64 \n",
      " 5   grid            180 non-null    int64 \n",
      " 6   position        180 non-null    object\n",
      " 7   positionText    180 non-null    object\n",
      " 8   positionOrder   180 non-null    int64 \n",
      " 9   points          180 non-null    int64 \n",
      " 10  laps            180 non-null    int64 \n",
      " 11  time            180 non-null    object\n",
      " 12  milliseconds    180 non-null    object\n",
      " 13  fastestLap      180 non-null    object\n",
      " 14  fastestLapTime  180 non-null    object\n",
      " 15  statusId        180 non-null    int64 \n",
      "dtypes: int64(10), object(6)\n",
      "memory usage: 22.6+ KB\n"
     ]
    }
   ],
   "source": [
    "df_sprint = pd.read_csv('/kaggle/input/formula-1-world-championship-1950-2020/sprint_results.csv')\n",
    "df_sprint.info()"
   ]
  },
  {
   "cell_type": "markdown",
   "id": "1b11fc16",
   "metadata": {
    "papermill": {
     "duration": 0.010458,
     "end_time": "2024-04-27T14:49:33.257003",
     "exception": false,
     "start_time": "2024-04-27T14:49:33.246545",
     "status": "completed"
    },
    "tags": []
   },
   "source": [
    "### 1.14 Estado"
   ]
  },
  {
   "cell_type": "code",
   "execution_count": 15,
   "id": "58c13c41",
   "metadata": {
    "execution": {
     "iopub.execute_input": "2024-04-27T14:49:33.281970Z",
     "iopub.status.busy": "2024-04-27T14:49:33.281217Z",
     "iopub.status.idle": "2024-04-27T14:49:33.297219Z",
     "shell.execute_reply": "2024-04-27T14:49:33.296047Z"
    },
    "papermill": {
     "duration": 0.032223,
     "end_time": "2024-04-27T14:49:33.300045",
     "exception": false,
     "start_time": "2024-04-27T14:49:33.267822",
     "status": "completed"
    },
    "tags": []
   },
   "outputs": [
    {
     "name": "stdout",
     "output_type": "stream",
     "text": [
      "<class 'pandas.core.frame.DataFrame'>\n",
      "RangeIndex: 139 entries, 0 to 138\n",
      "Data columns (total 2 columns):\n",
      " #   Column    Non-Null Count  Dtype \n",
      "---  ------    --------------  ----- \n",
      " 0   statusId  139 non-null    int64 \n",
      " 1   status    139 non-null    object\n",
      "dtypes: int64(1), object(1)\n",
      "memory usage: 2.3+ KB\n"
     ]
    }
   ],
   "source": [
    "df_status = pd.read_csv('/kaggle/input/formula-1-world-championship-1950-2020/status.csv')\n",
    "df_status.info()"
   ]
  },
  {
   "cell_type": "markdown",
   "id": "faa4a77f",
   "metadata": {
    "papermill": {
     "duration": 0.01194,
     "end_time": "2024-04-27T14:49:33.323356",
     "exception": false,
     "start_time": "2024-04-27T14:49:33.311416",
     "status": "completed"
    },
    "tags": []
   },
   "source": [
    "### 2. Tablas de consulta"
   ]
  },
  {
   "cell_type": "markdown",
   "id": "b88b052e",
   "metadata": {
    "papermill": {
     "duration": 0.010656,
     "end_time": "2024-04-27T14:49:33.345234",
     "exception": false,
     "start_time": "2024-04-27T14:49:33.334578",
     "status": "completed"
    },
    "tags": []
   },
   "source": [
    "### "
   ]
  }
 ],
 "metadata": {
  "kaggle": {
   "accelerator": "none",
   "dataSources": [
    {
     "datasetId": 468218,
     "sourceId": 6358464,
     "sourceType": "datasetVersion"
    }
   ],
   "dockerImageVersionId": 30698,
   "isGpuEnabled": false,
   "isInternetEnabled": true,
   "language": "python",
   "sourceType": "notebook"
  },
  "kernelspec": {
   "display_name": "Python 3",
   "language": "python",
   "name": "python3"
  },
  "language_info": {
   "codemirror_mode": {
    "name": "ipython",
    "version": 3
   },
   "file_extension": ".py",
   "mimetype": "text/x-python",
   "name": "python",
   "nbconvert_exporter": "python",
   "pygments_lexer": "ipython3",
   "version": "3.10.13"
  },
  "papermill": {
   "default_parameters": {},
   "duration": 6.959317,
   "end_time": "2024-04-27T14:49:33.978789",
   "environment_variables": {},
   "exception": null,
   "input_path": "__notebook__.ipynb",
   "output_path": "__notebook__.ipynb",
   "parameters": {},
   "start_time": "2024-04-27T14:49:27.019472",
   "version": "2.5.0"
  }
 },
 "nbformat": 4,
 "nbformat_minor": 5
}
